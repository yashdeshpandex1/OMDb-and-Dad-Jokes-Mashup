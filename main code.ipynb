{
 "cells": [
  {
   "cell_type": "code",
   "execution_count": 5,
   "id": "2d3836e4",
   "metadata": {},
   "outputs": [],
   "source": [
    "import requests_with_caching"
   ]
  },
  {
   "cell_type": "code",
   "execution_count": 9,
   "id": "0ca9c711",
   "metadata": {},
   "outputs": [],
   "source": [
    "apikey = \"abcd1234\"  # you may *optionally* replace this with your API key.\n",
    "# Note: you do *not* need an API key to complete this assignment. Every request should be in the cache\n",
    "requests_with_caching.clear_cache()\n",
    "# print(list(requests_with_caching.perm_cache().keys()))"
   ]
  },
  {
   "cell_type": "code",
   "execution_count": 10,
   "id": "b02691fb",
   "metadata": {},
   "outputs": [],
   "source": [
    "# NOTE: the OMDb API uses http:// instead of https://\n",
    "import json\n",
    "def get_movie_data(name: str) -> dict:\n",
    "    param = {}\n",
    "    param[\"t\"] = name\n",
    "    param[\"r\"] = 'json'\n",
    "    this_page_cache = requests_with_caching.get(\"http://www.omdbapi.com/\", params = param)\n",
    "    response = json.loads(this_page_cache.text)\n",
    "    return response"
   ]
  },
  {
   "cell_type": "code",
   "execution_count": 11,
   "id": "e133068f",
   "metadata": {},
   "outputs": [
    {
     "name": "stdout",
     "output_type": "stream",
     "text": [
      "new; adding to cache\n",
      "{'Response': 'False', 'Error': 'No API key provided.'}\n"
     ]
    },
    {
     "ename": "KeyError",
     "evalue": "'Year'",
     "output_type": "error",
     "traceback": [
      "\u001b[1;31m---------------------------------------------------------------------------\u001b[0m",
      "\u001b[1;31mKeyError\u001b[0m                                  Traceback (most recent call last)",
      "Cell \u001b[1;32mIn[11], line 4\u001b[0m\n\u001b[0;32m      2\u001b[0m \u001b[38;5;28mprint\u001b[39m(results)\n\u001b[0;32m      3\u001b[0m \u001b[38;5;28;01massert\u001b[39;00m \u001b[38;5;28mtype\u001b[39m(results) \u001b[38;5;241m==\u001b[39m \u001b[38;5;28mtype\u001b[39m({})\n\u001b[1;32m----> 4\u001b[0m \u001b[38;5;28;01massert\u001b[39;00m results[\u001b[38;5;124m\"\u001b[39m\u001b[38;5;124mYear\u001b[39m\u001b[38;5;124m\"\u001b[39m] \u001b[38;5;241m==\u001b[39m \u001b[38;5;124m\"\u001b[39m\u001b[38;5;124m2018\u001b[39m\u001b[38;5;124m\"\u001b[39m\n\u001b[0;32m      5\u001b[0m \u001b[38;5;28mprint\u001b[39m(json\u001b[38;5;241m.\u001b[39mdumps(results, indent \u001b[38;5;241m=\u001b[39m \u001b[38;5;241m4\u001b[39m))\n",
      "\u001b[1;31mKeyError\u001b[0m: 'Year'"
     ]
    }
   ],
   "source": [
    "results = get_movie_data(\"Black Panther\")\n",
    "print(results)\n",
    "assert type(results) == type({})\n",
    "assert results[\"Year\"] == \"2018\"\n",
    "print(json.dumps(results, indent = 4))\n",
    "# some other invocations that we use in the automated tests; uncomment these if you are getting errors and want better error messages\n",
    "# print(get_movie_data(\"Venom\"))\n",
    "# print(get_movie_data(\"Baby Mama\"))"
   ]
  },
  {
   "cell_type": "code",
   "execution_count": null,
   "id": "14430822",
   "metadata": {},
   "outputs": [],
   "source": []
  }
 ],
 "metadata": {
  "kernelspec": {
   "display_name": "base",
   "language": "python",
   "name": "python3"
  },
  "language_info": {
   "codemirror_mode": {
    "name": "ipython",
    "version": 3
   },
   "file_extension": ".py",
   "mimetype": "text/x-python",
   "name": "python",
   "nbconvert_exporter": "python",
   "pygments_lexer": "ipython3",
   "version": "3.12.7"
  }
 },
 "nbformat": 4,
 "nbformat_minor": 5
}
