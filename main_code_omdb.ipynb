{
 "cells": [
  {
   "cell_type": "code",
   "execution_count": 6,
   "id": "51f37026",
   "metadata": {
    "deletable": false,
    "editable": false,
    "nbgrader": {
     "cell_type": "code",
     "checksum": "b88b91054ebb0dbb23f30ec4ee1c25b2",
     "grade": false,
     "grade_id": "cell-dd0343668cbe5314",
     "locked": true,
     "schema_version": 3,
     "solution": false,
     "task": false
    },
    "tags": []
   },
   "outputs": [],
   "source": [
    "import requests_with_caching"
   ]
  },
  {
   "cell_type": "code",
   "execution_count": 7,
   "id": "1bec4abe",
   "metadata": {
    "deletable": false,
    "editable": false,
    "nbgrader": {
     "cell_type": "code",
     "checksum": "29443891fb93abc6599298219d89c488",
     "grade": false,
     "grade_id": "cell-66c3452dd2194fd7",
     "locked": true,
     "schema_version": 3,
     "solution": false,
     "task": false
    },
    "tags": []
   },
   "outputs": [],
   "source": [
    "apikey = \"abcd1234\"  # you may *optionally* replace this with your API key.\n",
    "# Note: you do *not* need an API key to complete this assignment. Every request should be in the cache\n",
    "requests_with_caching.clear_cache()\n",
    "# print(list(requests_with_caching.perm_cache().keys()))"
   ]
  },
  {
   "cell_type": "code",
   "execution_count": 8,
   "id": "2534ddb1",
   "metadata": {
    "deletable": false,
    "nbgrader": {
     "cell_type": "code",
     "checksum": "aa1feac37201b0b26baa50033f106ae3",
     "grade": false,
     "grade_id": "cell-c15d5bfaf933109d",
     "locked": false,
     "schema_version": 3,
     "solution": true,
     "task": false
    },
    "tags": []
   },
   "outputs": [],
   "source": [
    "# NOTE: the OMDb API uses http:// instead of https://\n",
    "import json\n",
    "def get_movie_data(name: str) -> dict:\n",
    "    param = {}\n",
    "    param[\"t\"] = name\n",
    "    param[\"r\"] = 'json'\n",
    "    this_page_cache = requests_with_caching.get(\"http://www.omdbapi.com/\", params = param)\n",
    "    response = json.loads(this_page_cache.text)\n",
    "    return response\n"
   ]
  },
  {
   "cell_type": "code",
   "execution_count": 9,
   "id": "9925d59f",
   "metadata": {
    "tags": []
   },
   "outputs": [
    {
     "name": "stdout",
     "output_type": "stream",
     "text": [
      "found in permanent_cache\n",
      "{'Title': 'Black Panther', 'Year': '2018', 'Rated': 'PG-13', 'Released': '16 Feb 2018', 'Runtime': '134 min', 'Genre': 'Action, Adventure, Sci-Fi', 'Director': 'Ryan Coogler', 'Writer': 'Ryan Coogler, Joe Robert Cole, Stan Lee', 'Actors': \"Chadwick Boseman, Michael B. Jordan, Lupita Nyong'o\", 'Plot': \"T'Challa, heir to the hidden but advanced kingdom of Wakanda, must step forward to lead his people into a new future and must confront a challenger from his country's past.\", 'Language': 'English, Swahili, Nama, Xhosa, Korean', 'Country': 'United States', 'Awards': 'Won 3 Oscars. 123 wins & 289 nominations total', 'Poster': 'https://m.media-amazon.com/images/M/MV5BMTg1MTY2MjYzNV5BMl5BanBnXkFtZTgwMTc4NTMwNDI@._V1_SX300.jpg', 'Ratings': [{'Source': 'Internet Movie Database', 'Value': '7.3/10'}, {'Source': 'Rotten Tomatoes', 'Value': '96%'}, {'Source': 'Metacritic', 'Value': '88/100'}], 'Metascore': '88', 'imdbRating': '7.3', 'imdbVotes': '837,583', 'imdbID': 'tt1825683', 'Type': 'movie', 'DVD': '02 May 2018', 'BoxOffice': '$700,426,566', 'Production': 'N/A', 'Website': 'N/A', 'Response': 'True'}\n",
      "{\n",
      "    \"Title\": \"Black Panther\",\n",
      "    \"Year\": \"2018\",\n",
      "    \"Rated\": \"PG-13\",\n",
      "    \"Released\": \"16 Feb 2018\",\n",
      "    \"Runtime\": \"134 min\",\n",
      "    \"Genre\": \"Action, Adventure, Sci-Fi\",\n",
      "    \"Director\": \"Ryan Coogler\",\n",
      "    \"Writer\": \"Ryan Coogler, Joe Robert Cole, Stan Lee\",\n",
      "    \"Actors\": \"Chadwick Boseman, Michael B. Jordan, Lupita Nyong'o\",\n",
      "    \"Plot\": \"T'Challa, heir to the hidden but advanced kingdom of Wakanda, must step forward to lead his people into a new future and must confront a challenger from his country's past.\",\n",
      "    \"Language\": \"English, Swahili, Nama, Xhosa, Korean\",\n",
      "    \"Country\": \"United States\",\n",
      "    \"Awards\": \"Won 3 Oscars. 123 wins & 289 nominations total\",\n",
      "    \"Poster\": \"https://m.media-amazon.com/images/M/MV5BMTg1MTY2MjYzNV5BMl5BanBnXkFtZTgwMTc4NTMwNDI@._V1_SX300.jpg\",\n",
      "    \"Ratings\": [\n",
      "        {\n",
      "            \"Source\": \"Internet Movie Database\",\n",
      "            \"Value\": \"7.3/10\"\n",
      "        },\n",
      "        {\n",
      "            \"Source\": \"Rotten Tomatoes\",\n",
      "            \"Value\": \"96%\"\n",
      "        },\n",
      "        {\n",
      "            \"Source\": \"Metacritic\",\n",
      "            \"Value\": \"88/100\"\n",
      "        }\n",
      "    ],\n",
      "    \"Metascore\": \"88\",\n",
      "    \"imdbRating\": \"7.3\",\n",
      "    \"imdbVotes\": \"837,583\",\n",
      "    \"imdbID\": \"tt1825683\",\n",
      "    \"Type\": \"movie\",\n",
      "    \"DVD\": \"02 May 2018\",\n",
      "    \"BoxOffice\": \"$700,426,566\",\n",
      "    \"Production\": \"N/A\",\n",
      "    \"Website\": \"N/A\",\n",
      "    \"Response\": \"True\"\n",
      "}\n"
     ]
    }
   ],
   "source": [
    "results = get_movie_data(\"Black Panther\")\n",
    "print(results)\n",
    "assert type(results) == type({})\n",
    "assert results[\"Year\"] == \"2018\"\n",
    "print(json.dumps(results, indent = 4))\n",
    "# some other invocations that we use in the automated tests; uncomment these if you are getting errors and want better error messages\n",
    "# print(get_movie_data(\"Venom\"))\n",
    "# print(get_movie_data(\"Baby Mama\"))"
   ]
  },
  {
   "cell_type": "code",
   "execution_count": null,
   "id": "c00368f0",
   "metadata": {
    "deletable": false,
    "editable": false,
    "nbgrader": {
     "cell_type": "code",
     "checksum": "2f682315afcb66205be1378ef202de10",
     "grade": true,
     "grade_id": "cell-2bf30385787a27c6",
     "locked": true,
     "points": 1,
     "schema_version": 3,
     "solution": false,
     "task": false
    }
   },
   "outputs": [],
   "source": []
  },
  {
   "cell_type": "code",
   "execution_count": 10,
   "id": "1a849514",
   "metadata": {
    "deletable": false,
    "nbgrader": {
     "cell_type": "code",
     "checksum": "cf03c727c61eddef7e1d3941e4cb5fa2",
     "grade": false,
     "grade_id": "cell-db2e3b5784fb6f51",
     "locked": false,
     "schema_version": 3,
     "solution": true,
     "task": false
    },
    "tags": []
   },
   "outputs": [
    {
     "name": "stdout",
     "output_type": "stream",
     "text": [
      "found in permanent_cache\n",
      "96\n"
     ]
    }
   ],
   "source": [
    "def rt_rating(movie_data: dict) -> int:\n",
    "    rating = \"\"\n",
    "    for rating_list in movie_data[\"Ratings\"]:\n",
    "        if rating_list[\"Source\"]== \"Rotten Tomatoes\":\n",
    "            rating = rating_list[\"Value\"]\n",
    "    if rating != \"\":\n",
    "        int_rating = int(rating[:2])\n",
    "    else: int_rating = -1\n",
    "    return int_rating\n",
    "            \n",
    "\n",
    "\n",
    "\n",
    "\n",
    "#We suggest that you write an assert statement to check the output of your function for the movie Black Panther. The autograder will check results for some other movies.\n",
    "results = get_movie_data(\"Black Panther\")\n",
    "assert rt_rating(results) == 96\n",
    "print(rt_rating(results))"
   ]
  },
  {
   "cell_type": "code",
   "execution_count": null,
   "id": "0e2ba4bf",
   "metadata": {
    "deletable": false,
    "editable": false,
    "nbgrader": {
     "cell_type": "code",
     "checksum": "5f8b58157f5d094d939ba31f5e710c1f",
     "grade": true,
     "grade_id": "cell-8da8bffba2e45c97",
     "locked": true,
     "points": 1,
     "schema_version": 3,
     "solution": false,
     "task": false
    }
   },
   "outputs": [],
   "source": []
  },
  {
   "cell_type": "code",
   "execution_count": 11,
   "id": "712c5a81",
   "metadata": {
    "deletable": false,
    "nbgrader": {
     "cell_type": "code",
     "checksum": "fdf916e24b04fb44aec10e01a62b58e0",
     "grade": false,
     "grade_id": "cell-16f7339f35226c3c",
     "locked": false,
     "schema_version": 3,
     "solution": true,
     "task": false
    },
    "tags": []
   },
   "outputs": [],
   "source": [
    "def get_joke_data(name : str) -> dict:\n",
    "    url = \"https://icanhazdadjoke.com/search\"\n",
    "    param = {}\n",
    "    param[\"term\"] = name\n",
    "    param[\"limit\"] = 2\n",
    "    response = requests_with_caching.get(url, params = param)\n",
    "    json_response = json.loads(response.text)\n",
    "    return json_response"
   ]
  },
  {
   "cell_type": "code",
   "execution_count": 12,
   "id": "b6261abf",
   "metadata": {
    "tags": []
   },
   "outputs": [
    {
     "name": "stdout",
     "output_type": "stream",
     "text": [
      "found in permanent_cache\n",
      "found in permanent_cache\n"
     ]
    }
   ],
   "source": [
    "assert (\n",
    "    len(get_joke_data(\"magic\")[\"results\"]) == 2\n",
    "), \"The correct number of jokes for 'magic' should be 2\"\n",
    "assert (\n",
    "    get_joke_data(\"magic\")[\"results\"][0][\"joke\"]\n",
    "    == \"What do you call a magician who has lost their magic? Ian.\"\n",
    ")"
   ]
  },
  {
   "cell_type": "code",
   "execution_count": null,
   "id": "1916c4aa",
   "metadata": {
    "deletable": false,
    "editable": false,
    "nbgrader": {
     "cell_type": "code",
     "checksum": "b6aee20b674691a06438d48f6087cb8c",
     "grade": true,
     "grade_id": "cell-4b8dd4186c96707e",
     "locked": true,
     "points": 1,
     "schema_version": 3,
     "solution": false,
     "task": false
    }
   },
   "outputs": [],
   "source": []
  },
  {
   "cell_type": "code",
   "execution_count": 13,
   "id": "8ee07e18",
   "metadata": {
    "deletable": false,
    "nbgrader": {
     "cell_type": "code",
     "checksum": "2160868817885e85c9bd634034d991d5",
     "grade": false,
     "grade_id": "cell-a2bb2ab6bc6d8d49",
     "locked": false,
     "schema_version": 3,
     "solution": true,
     "task": false
    },
    "tags": []
   },
   "outputs": [
    {
     "name": "stdout",
     "output_type": "stream",
     "text": [
      "found in permanent_cache\n",
      "('dreams', [\"I'm tired of following my dreams. I'm just going to ask them where they are going and meet up with them later.\"])\n"
     ]
    }
   ],
   "source": [
    "def get_jokes(plot: str, verbosity=0) -> tuple[str, list[str]]:\n",
    "    \"\"\"Returns a tuple containing the longest word for which jokes were found\n",
    "    and the joke itself. Break ties for longest word using the order in `plot`.\n",
    "    Make sure that you strip punctuation from the word before you search for a joke.\n",
    "\n",
    "    Parameters\n",
    "    ----------\n",
    "    plot : str\n",
    "        The plot of a movie.\n",
    "\n",
    "    verbosity : int (optional)\n",
    "        If 0, no output is printed. If 1, some output is printed about which words were tried.\n",
    "        Defaults to 0.\n",
    "\n",
    "    Returns\n",
    "    -------\n",
    "    tuple[str, list[str]]\n",
    "        A tuple containing the word that was used to search for a joke and a list of two joke strings.\n",
    "    \"\"\"\n",
    "\n",
    "    words = plot.split()  # split into separate words\n",
    "    words = [w.strip(\",.!;:\") for w in words]  # remove punctuation for each word\n",
    "    words.sort(key=lambda w: (-len(w), plot.index(w)))\n",
    "\n",
    "    # Step 3: Iterate through sorted words and find jokes\n",
    "    for word in words:\n",
    "        if verbosity == 1:\n",
    "            print(f\"Trying word: {word}\")\n",
    "\n",
    "        # Fetch jokes for the current word\n",
    "        joke_data = get_joke_data(word)\n",
    "        \n",
    "        # If jokes are found, return the word and the list of jokes\n",
    "        if joke_data['results']:\n",
    "            jokes = [result['joke'] for result in joke_data['results']]\n",
    "            return (word, jokes)\n",
    "\n",
    "    # Step 4: If no jokes are found, return (None, None)\n",
    "    return (None, None)\n",
    "\n",
    "    # WRITE YOUR CODE HERE\n",
    "plot = \"I had dreams of a cat.\"\n",
    "result = get_jokes(plot)\n",
    "print(result)\n"
   ]
  },
  {
   "cell_type": "code",
   "execution_count": 14,
   "id": "c71b10df",
   "metadata": {
    "tags": []
   },
   "outputs": [
    {
     "name": "stdout",
     "output_type": "stream",
     "text": [
      "Trying word: dreams\n",
      "found in permanent_cache\n",
      "('dreams', [\"I'm tired of following my dreams. I'm just going to ask them where they are going and meet up with them later.\"])\n"
     ]
    }
   ],
   "source": [
    "# Test case 1: Plot with a word that has jokes\n",
    "plot = \"I had dreams of a cat.\"\n",
    "result = get_jokes(plot, 1)\n",
    "print(result)\n",
    "assert result[0] == \"dreams\"\n",
    "assert (\n",
    "    result[1][0]\n",
    "    == \"I'm tired of following my dreams. I'm just going to ask them where they are going and meet up with them later.\"\n",
    ")"
   ]
  },
  {
   "cell_type": "code",
   "execution_count": null,
   "id": "3252b170",
   "metadata": {
    "deletable": false,
    "editable": false,
    "nbgrader": {
     "cell_type": "code",
     "checksum": "5f8b65d03411e5b035cd929e55824bcc",
     "grade": true,
     "grade_id": "cell-1780db7471384246",
     "locked": true,
     "points": 1,
     "schema_version": 3,
     "solution": false,
     "task": false
    }
   },
   "outputs": [],
   "source": []
  },
  {
   "cell_type": "code",
   "execution_count": 15,
   "id": "e2c410a3",
   "metadata": {
    "deletable": false,
    "editable": false,
    "nbgrader": {
     "cell_type": "code",
     "checksum": "04c8bdab1a330d480493aeb322dd44dd",
     "grade": false,
     "grade_id": "cell-a7d5b8af6ee3fa80",
     "locked": true,
     "schema_version": 3,
     "solution": false,
     "task": false
    },
    "tags": []
   },
   "outputs": [],
   "source": [
    "def highlight(word: str, sentence: str) -> str:\n",
    "    \"\"\"\n",
    "    Highlights a specific word in a sentence by surrounding it with asterisks (**).\n",
    "    The highlighting is case-insensitive.\n",
    "\n",
    "    Args:\n",
    "        word (str): The word to be highlighted.\n",
    "        sentence (str): The sentence in which the word should be highlighted.\n",
    "\n",
    "    Returns:\n",
    "        str: The sentence with the specified word highlighted.\n",
    "    \"\"\"\n",
    "    import re\n",
    "\n",
    "    # Escape special characters in the word to treat it as a literal string\n",
    "    # Use re.sub() to replace the word with the highlighted version\n",
    "    # Use re.IGNORECASE flag to perform case-insensitive replacement\n",
    "    return re.sub(re.escape(word), f\"**{word}**\", sentence, flags=re.IGNORECASE)"
   ]
  },
  {
   "cell_type": "code",
   "execution_count": 16,
   "id": "d60305fe",
   "metadata": {
    "deletable": false,
    "nbgrader": {
     "cell_type": "code",
     "checksum": "da5e0c67561492923fff32805c586bd9",
     "grade": false,
     "grade_id": "cell-cdca3b42f4c176ff",
     "locked": false,
     "schema_version": 3,
     "solution": true,
     "task": false
    },
    "tags": []
   },
   "outputs": [
    {
     "name": "stdout",
     "output_type": "stream",
     "text": [
      "found in permanent_cache\n",
      "found in permanent_cache\n",
      "found in permanent_cache\n",
      "found in permanent_cache\n",
      "found in permanent_cache\n",
      "found in permanent_cache\n",
      "found in permanent_cache\n",
      "found in permanent_cache\n",
      "found in permanent_cache\n",
      "found in permanent_cache\n",
      "found in permanent_cache\n",
      "found in permanent_cache\n",
      "found in permanent_cache\n",
      "found in permanent_cache\n",
      "found in permanent_cache\n",
      "found in permanent_cache\n",
      "found in permanent_cache\n"
     ]
    },
    {
     "data": {
      "text/plain": [
       "\"Black Panther\\nRotten Tomatoes rating: 96%\\nT'Challa, heir to the hidden but advanced kingdom of Wakanda, must step **forward** to lead his people into a new future and must confront a challenger from his country's past.\\nSpeaking of **forward**, that reminds me of some jokes.\\nHope they're as good as the movie!\\n\\nSometimes I tuck my knees into my chest and lean **forward**.  That’s just how I roll.\\nWhy do scuba divers fall backwards into the water? Because if they fell **forward**s they’d still be in the boat.\""
      ]
     },
     "execution_count": 16,
     "metadata": {},
     "output_type": "execute_result"
    }
   ],
   "source": [
    "def haha_me(movie_title: str, verbosity=0) -> str:\n",
    "    #name of the movie\n",
    "    movie_name = movie_title\n",
    "    \n",
    "    #rotten tomatoes rating\n",
    "    r = get_movie_data(movie_title)\n",
    "    t = r[\"Ratings\"][1][\"Value\"]\n",
    "    rate = f\"Rotten Tomatoes rating: {t}\"\n",
    "    \n",
    "    #plot\n",
    "    plot = r[\"Plot\"]\n",
    "    #highlighting the word\n",
    "    highlighted_word = get_jokes(plot)[0]\n",
    "    highlighted_plot = highlight(highlighted_word, plot)\n",
    "    \n",
    "    #next line\n",
    "    highlight1 = f\"**{highlighted_word}**\"\n",
    "    nxt_line = f\"Speaking of {highlight1}, that reminds me of some jokes.\"\n",
    "    \n",
    "    #conditional phrasing\n",
    "    conditional_statement = \"\"\n",
    "    ratings = rt_rating(r)\n",
    "    if ratings == -1:\n",
    "        conditional_statement = \"Hope you like them!\"\n",
    "    elif ratings < 70:\n",
    "        conditional_statement = \"Hope they're better than the movie!\"\n",
    "    else:\n",
    "        conditional_statement = \"Hope they're as good as the movie!\"\n",
    "        \n",
    "    #list of jokes seperated by a newline \n",
    "    jokes = get_jokes(plot)\n",
    "    jokes = jokes[1]\n",
    "    jokes = \"\\n\".join(jokes)\n",
    "    jokes = highlight(highlighted_word, jokes)\n",
    "    \n",
    "    final_str = f\"\"\"{movie_name}\n",
    "{rate}\n",
    "{highlighted_plot}\n",
    "{nxt_line}\n",
    "{conditional_statement}\n",
    "\n",
    "{jokes}\"\"\"\n",
    "    \n",
    "    return final_str\n",
    "haha_me(\"Black Panther\")"
   ]
  },
  {
   "cell_type": "code",
   "execution_count": 17,
   "id": "b3e5f862",
   "metadata": {
    "tags": []
   },
   "outputs": [
    {
     "name": "stdout",
     "output_type": "stream",
     "text": [
      "found in permanent_cache\n",
      "found in permanent_cache\n",
      "found in permanent_cache\n",
      "found in permanent_cache\n",
      "found in permanent_cache\n",
      "found in permanent_cache\n",
      "found in permanent_cache\n",
      "found in permanent_cache\n",
      "found in permanent_cache\n",
      "found in permanent_cache\n",
      "found in permanent_cache\n",
      "found in permanent_cache\n",
      "found in permanent_cache\n",
      "found in permanent_cache\n",
      "found in permanent_cache\n",
      "found in permanent_cache\n",
      "found in permanent_cache\n"
     ]
    }
   ],
   "source": [
    "assert(\n",
    "    haha_me(\"Black Panther\")\n",
    "    == \"\"\"Black Panther\n",
    "Rotten Tomatoes rating: 96%\n",
    "T'Challa, heir to the hidden but advanced kingdom of Wakanda, must step **forward** to lead his people into a new future and must confront a challenger from his country's past.\n",
    "Speaking of **forward**, that reminds me of some jokes.\n",
    "Hope they're as good as the movie!\n",
    "\n",
    "Sometimes I tuck my knees into my chest and lean **forward**.  That’s just how I roll.\n",
    "Why do scuba divers fall backwards into the water? Because if they fell **forward**s they’d still be in the boat.\"\"\"\n",
    ")"
   ]
  },
  {
   "cell_type": "code",
   "execution_count": null,
   "id": "3836b9b7",
   "metadata": {
    "deletable": false,
    "editable": false,
    "nbgrader": {
     "cell_type": "code",
     "checksum": "272762d08058da37a64bc0da2d2970cc",
     "grade": true,
     "grade_id": "cell-ad473a0e417360cf",
     "locked": true,
     "points": 1,
     "schema_version": 3,
     "solution": false,
     "task": false
    }
   },
   "outputs": [],
   "source": []
  },
  {
   "cell_type": "code",
   "execution_count": null,
   "id": "1e88b844-b61e-4c04-b6f6-b847cf61a61e",
   "metadata": {},
   "outputs": [],
   "source": []
  }
 ],
 "metadata": {
  "kernelspec": {
   "display_name": "Python 3.11 (ipykernel)",
   "language": "python",
   "name": "python3"
  },
  "language_info": {
   "codemirror_mode": {
    "name": "ipython",
    "version": 3
   },
   "file_extension": ".py",
   "mimetype": "text/x-python",
   "name": "python",
   "nbconvert_exporter": "python",
   "pygments_lexer": "ipython3",
   "version": "3.11.9"
  }
 },
 "nbformat": 4,
 "nbformat_minor": 5
}
